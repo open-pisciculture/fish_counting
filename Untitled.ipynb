{
 "cells": [
  {
   "cell_type": "code",
   "execution_count": 1,
   "metadata": {},
   "outputs": [
    {
     "name": "stdout",
     "output_type": "stream",
     "text": [
      "/home/alejo/Documents/Piscicultura/fish_counting/test_images\n"
     ]
    }
   ],
   "source": [
    "import cv2\n",
    "import numpy as np\n",
    "import glob\n",
    "import random\n",
    "import os\n",
    "\n",
    "cam = cv2.VideoCapture(-1)\n",
    "cam.set(cv2.CAP_PROP_FRAME_WIDTH, 1300)\n",
    "cam.set(cv2.CAP_PROP_FRAME_HEIGHT, 1500)\n",
    "\n",
    "# Load Yolo\n",
    "net = cv2.dnn.readNet(\"yolo_weights/yolov4-tiny_training_20000.weights\", \"config/yolov4-tiny_testing.cfg\")\n",
    "# net = cv2.dnn.readNet(\"yolo_weights/yolov3_training_last.weights\", \"config/yolov3_testing.cfg\")\n",
    "\n",
    "# Name custom object\n",
    "classes = [\"fish\"]\n",
    "\n",
    "# Images path\n",
    "cwd_0 = os.getcwd()\n",
    "img_folder_path = os.path.join(cwd_0, 'test_images')\n",
    "print(img_folder_path)\n",
    "# images_path = glob.glob(r\"{}/*.jpg\".format(img_folder_path))\n",
    "layer_names = net.getLayerNames()\n",
    "output_layers = [layer_names[i[0] - 1] for i in net.getUnconnectedOutLayers()]"
   ]
  },
  {
   "cell_type": "code",
   "execution_count": 2,
   "metadata": {},
   "outputs": [
    {
     "ename": "AttributeError",
     "evalue": "'cv2.dnn_Net' object has no attribute 'summary'",
     "output_type": "error",
     "traceback": [
      "\u001b[0;31m---------------------------------------------------------------------------\u001b[0m",
      "\u001b[0;31mAttributeError\u001b[0m                            Traceback (most recent call last)",
      "\u001b[0;32m<ipython-input-2-e190893001f9>\u001b[0m in \u001b[0;36m<module>\u001b[0;34m\u001b[0m\n\u001b[0;32m----> 1\u001b[0;31m \u001b[0mnet\u001b[0m\u001b[0;34m.\u001b[0m\u001b[0msummary\u001b[0m\u001b[0;34m(\u001b[0m\u001b[0;34m)\u001b[0m\u001b[0;34m\u001b[0m\u001b[0;34m\u001b[0m\u001b[0m\n\u001b[0m",
      "\u001b[0;31mAttributeError\u001b[0m: 'cv2.dnn_Net' object has no attribute 'summary'"
     ]
    }
   ],
   "source": [
    "net.summary()"
   ]
  },
  {
   "cell_type": "code",
   "execution_count": null,
   "metadata": {},
   "outputs": [],
   "source": []
  }
 ],
 "metadata": {
  "kernelspec": {
   "display_name": "Python 3",
   "language": "python",
   "name": "python3"
  },
  "language_info": {
   "codemirror_mode": {
    "name": "ipython",
    "version": 3
   },
   "file_extension": ".py",
   "mimetype": "text/x-python",
   "name": "python",
   "nbconvert_exporter": "python",
   "pygments_lexer": "ipython3",
   "version": "3.8.5"
  }
 },
 "nbformat": 4,
 "nbformat_minor": 4
}
